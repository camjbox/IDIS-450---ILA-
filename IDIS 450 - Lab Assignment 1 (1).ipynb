{
 "cells": [
  {
   "cell_type": "code",
   "execution_count": 17,
   "metadata": {},
   "outputs": [
    {
     "name": "stdout",
     "output_type": "stream",
     "text": [
      "   Transaction ID      Salesperson           Region  Account #  Sales Amount     Month\n",
      "0            1189  Abilene, Lufkin   West TX Region      83356           259   October\n",
      "1            1191  Abilene, Lufkin   West TX Region      26781          1422   October\n",
      "2            1210  Abilene, Lufkin   West TX Region      55708           802  November\n",
      "3            1174  Angelo, Antonio  South TX Region      36569          1595   October\n",
      "4            1179  Angelo, Antonio  South TX Region      19036           628   October\n"
     ]
    }
   ],
   "source": [
    "#Part B\n",
    "\n",
    "#1\n",
    "\n",
    "#Read the input file into a dataframe called “SalesPeople” and print the first 5 rows of the dataframe\n",
    "\n",
    "#dataframe import\n",
    "import pandas as pd\n",
    "\n",
    "pd.set_option('display.max_rows', 100)\n",
    "pd.set_option('display.max_columns', 100)\n",
    "pd.set_option('display.width', 100)\n",
    "\n",
    "#reading the excel file into dataframe\n",
    "SalesPeople = pd.read_excel(r'C:\\Users\\cambo\\Downloads\\Sales_People.xlsx')\n",
    "firstFive = SalesPeople.head(5)\n",
    "\n",
    "#displaying table\n",
    "print (firstFive)\n",
    "\n",
    "\n"
   ]
  },
  {
   "cell_type": "code",
   "execution_count": 19,
   "metadata": {},
   "outputs": [
    {
     "name": "stdout",
     "output_type": "stream",
     "text": [
      "                    Salesperson           Region  Account #  Sales Amount     Month\n",
      "Transaction ID                                                                     \n",
      "1189            Abilene, Lufkin   West TX Region      83356           259   October\n",
      "1191            Abilene, Lufkin   West TX Region      26781          1422   October\n",
      "1210            Abilene, Lufkin   West TX Region      55708           802  November\n",
      "1174            Angelo, Antonio  South TX Region      36569          1595   October\n",
      "1179            Angelo, Antonio  South TX Region      19036           628   October\n",
      "1182            Angelo, Antonio  South TX Region      24050           880   October\n",
      "1193            Angelo, Antonio  South TX Region      24050           502   October\n",
      "1195            Angelo, Antonio  South TX Region      26781           659  November\n",
      "1196            Angelo, Antonio  South TX Region      31220           336  November\n",
      "1200            Angelo, Antonio  South TX Region      31220          1008  November\n"
     ]
    }
   ],
   "source": [
    "#Part B\n",
    "\n",
    "#2\n",
    "\n",
    "#Make the Transaction ID as the index for the dataframe and print the first 10 rows of the data.\n",
    "\n",
    "import pandas as pd\n",
    "\n",
    "pd.set_option('display.max_rows', 100)\n",
    "pd.set_option('display.max_columns', 100)\n",
    "pd.set_option('display.width', 100)\n",
    "\n",
    "#reading excel file into dataframe\n",
    "SalesPeople = pd.read_excel(r'C:\\Users\\cambo\\Downloads\\Sales_People.xlsx')\n",
    "\n",
    "index = SalesPeople.set_index('Transaction ID')\n",
    "firstTen = index.head(10)\n",
    "print(firstTen)\n",
    "\n",
    "\n"
   ]
  },
  {
   "cell_type": "code",
   "execution_count": null,
   "metadata": {},
   "outputs": [],
   "source": []
  }
 ],
 "metadata": {
  "kernelspec": {
   "display_name": "Python 3",
   "language": "python",
   "name": "python3"
  },
  "language_info": {
   "codemirror_mode": {
    "name": "ipython",
    "version": 3
   },
   "file_extension": ".py",
   "mimetype": "text/x-python",
   "name": "python",
   "nbconvert_exporter": "python",
   "pygments_lexer": "ipython3",
   "version": "3.7.1"
  }
 },
 "nbformat": 4,
 "nbformat_minor": 2
}
